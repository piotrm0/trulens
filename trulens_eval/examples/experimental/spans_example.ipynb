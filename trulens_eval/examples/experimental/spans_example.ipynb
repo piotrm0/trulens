{
 "cells": [
  {
   "cell_type": "markdown",
   "metadata": {},
   "source": [
    "from opentelemetry import trace\n",
    "from opentelemetry.exporter.otlp.proto.grpc.trace_exporter import OTLPSpanExporter\n",
    "from opentelemetry.sdk.resources import Resource\n",
    "from opentelemetry.sdk.trace import TracerProvider\n",
    "from opentelemetry.sdk.trace.export import BatchSpanProcessor\n",
    "\n",
    "# Resource can be required for some backends, e.g. Jaeger\n",
    "# If resource wouldn't be set - traces wouldn't appears in Jaeger\n",
    "resource = Resource(attributes={\n",
    "    \"service.name\": \"service\"\n",
    "})\n",
    "\n",
    "trace.set_tracer_provider(TracerProvider(resource=resource))\n",
    "tracer = trace.get_tracer(__name__)\n",
    "\n",
    "otlp_exporter = OTLPSpanExporter(endpoint=\"http://localhost:4317\", insecure=True)\n",
    "\n",
    "span_processor = BatchSpanProcessor(otlp_exporter)\n",
    "\n",
    "trace.get_tracer_provider().add_span_processor(span_processor)\n",
    "\n",
    "with tracer.start_as_current_span(\"foo\"):\n",
    "    print(\"Hello world!\")"
   ]
  },
  {
   "cell_type": "markdown",
   "metadata": {},
   "source": [
    "# Working with Spans"
   ]
  },
  {
   "cell_type": "code",
   "execution_count": null,
   "metadata": {},
   "outputs": [],
   "source": [
    "# %load_ext autoreload\n",
    "# %autoreload 2\n",
    "from pathlib import Path\n",
    "import sys\n",
    "\n",
    "# If running from github repo, can use this:\n",
    "repo = Path().cwd().parent.parent.resolve()\n",
    "sys.path.append(str(repo))"
   ]
  },
  {
   "cell_type": "code",
   "execution_count": null,
   "metadata": {},
   "outputs": [],
   "source": [
    "from pprint import pformat\n",
    "from pprint import pprint\n",
    "\n",
    "from examples.expositional.end2end_apps.custom_app.custom_app import CustomApp\n",
    "from examples.expositional.end2end_apps.custom_app.custom_retriever import CustomRetriever\n",
    "import pandas as pd\n",
    "\n",
    "from trulens_eval import instruments\n",
    "from trulens_eval.trace.category import Categorizer\n",
    "from trulens_eval.tru_custom_app import TruCustomApp"
   ]
  },
  {
   "cell_type": "code",
   "execution_count": null,
   "metadata": {},
   "outputs": [],
   "source": [
    "# from trulens_eval.tru import Tru\n",
    "# from trulens_eval import Tru\n",
    "# Tru()\n",
    "# Tru().reset_database()\n",
    "# Tru().start_dashboard(_dev=repo, force=True)"
   ]
  },
  {
   "cell_type": "code",
   "execution_count": null,
   "metadata": {},
   "outputs": [],
   "source": [
    "# Create custom app:\n",
    "custom_app = CustomApp(delay=0.0, alloc=0)\n",
    "\n",
    "# Create trulens wrapper:\n",
    "tru_custom_app = TruCustomApp(\n",
    "    custom_app,\n",
    "    app_id=\"customapp\",\n",
    ")\n",
    "\n",
    "# custom_agent = custom_app.agents[0]\n",
    "# tru_custom_agent = TruCustomApp(\n",
    "#      custom_agent,\n",
    "#      app_id=\"customapp_agent\"\n",
    "# )"
   ]
  },
  {
   "cell_type": "code",
   "execution_count": null,
   "metadata": {},
   "outputs": [],
   "source": [
    "instruments.Instrument().print_instrumentation()"
   ]
  },
  {
   "cell_type": "code",
   "execution_count": null,
   "metadata": {},
   "outputs": [],
   "source": [
    "tru_custom_app.print_instrumented()"
   ]
  },
  {
   "cell_type": "code",
   "execution_count": null,
   "metadata": {},
   "outputs": [],
   "source": [
    "# tru_custom_agent.print_instrumented()"
   ]
  },
  {
   "cell_type": "code",
   "execution_count": null,
   "metadata": {},
   "outputs": [],
   "source": [
    "with tru_custom_app as recorder:\n",
    "    custom_app.respond_to_query(\"testing\")\n",
    "\n",
    "rec = recorder.get()"
   ]
  },
  {
   "cell_type": "code",
   "execution_count": null,
   "metadata": {},
   "outputs": [],
   "source": [
    "spans = Categorizer.spans_of_record(rec)\n",
    "\n",
    "pd.DataFrame(\n",
    "    [(\n",
    "        s.trace_id & 0xff,\n",
    "        s.name,\n",
    "        type(s).__name__,\n",
    "        s.span_type,\n",
    "        s.span_id & 0xff,\n",
    "        s.parent_span_id & 0xff if s.parent_span_id else -1,\n",
    "        s.attributes\n",
    "    ) for s in spans],\n",
    "    columns=[\n",
    "        \"trace_id\",\n",
    "        \"name\",\n",
    "        \"type\",\n",
    "        \"span_type\",\n",
    "        \"span_id\",\n",
    "        \"parent_span_id\",\n",
    "        \"attributes\"\n",
    "    ],\n",
    ")"
   ]
  },
  {
   "cell_type": "code",
   "execution_count": null,
   "metadata": {},
   "outputs": [],
   "source": [
    "for span in spans:\n",
    "    pprint(span)\n",
    "    # pprint(span.model_dump())\n",
    "    print()"
   ]
  },
  {
   "cell_type": "code",
   "execution_count": null,
   "metadata": {},
   "outputs": [],
   "source": [
    "frozen = spans[1].freeze()"
   ]
  },
  {
   "cell_type": "code",
   "execution_count": null,
   "metadata": {},
   "outputs": [],
   "source": [
    "from trulens_eval.trace.exporter import TempDB, DBSpan"
   ]
  },
  {
   "cell_type": "code",
   "execution_count": null,
   "metadata": {},
   "outputs": [],
   "source": [
    "tempdb = TempDB(url=\"sqlite:///:memory:\")\n",
    "for span in spans:\n",
    "    tempdb.add_span(span)"
   ]
  },
  {
   "cell_type": "code",
   "execution_count": null,
   "metadata": {},
   "outputs": [],
   "source": [
    "with tempdb.session.begin() as s:\n",
    "    for span in s.query(DBSpan).filter(DBSpan.attributes[(\"trulens_eval@inputs\", \"data\")].as_string() == \"testing\"):\n",
    "        pprint(span.attributes)"
   ]
  },
  {
   "cell_type": "code",
   "execution_count": null,
   "metadata": {},
   "outputs": [],
   "source": []
  }
 ],
 "metadata": {
  "kernelspec": {
   "display_name": "py38_trulens",
   "language": "python",
   "name": "python3"
  },
  "language_info": {
   "codemirror_mode": {
    "name": "ipython",
    "version": 3
   },
   "file_extension": ".py",
   "mimetype": "text/x-python",
   "name": "python",
   "nbconvert_exporter": "python",
   "pygments_lexer": "ipython3",
   "version": "3.11.9"
  },
  "orig_nbformat": 4
 },
 "nbformat": 4,
 "nbformat_minor": 2
}
