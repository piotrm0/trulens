{
 "cells": [
  {
   "cell_type": "markdown",
   "metadata": {},
   "source": [
    "# Trace Recording Example"
   ]
  },
  {
   "cell_type": "code",
   "execution_count": null,
   "metadata": {},
   "outputs": [],
   "source": [
    "%load_ext autoreload\n",
    "%autoreload 2\n",
    "from pathlib import Path\n",
    "import sys\n",
    "\n",
    "# If running from github repo, can use this:\n",
    "sys.path.append(str(Path().cwd().parent.parent.resolve()))"
   ]
  },
  {
   "cell_type": "code",
   "execution_count": null,
   "metadata": {},
   "outputs": [],
   "source": [
    "from trulens_eval.trace import Tracer, TracerProvider, tracer_provider\n",
    "tp = tracer_provider\n",
    "\n",
    "with tp.trace() as tracer:\n",
    "    with tracer.method() as span1:\n",
    "        print(type(span1), span1)\n",
    "\n",
    "    with tp.trace() as inner_tracer:\n",
    "\n",
    "        with tracer.method() as span2:\n",
    "            print(type(span2), span2)\n",
    "            raise Exception(\"test outer tracer error\")\n",
    "\n",
    "        with inner_tracer.method() as span3:\n",
    "            print(type(span3), span3)\n",
    "            raise Exception(\"test inner tracer error\")"
   ]
  },
  {
   "cell_type": "code",
   "execution_count": null,
   "metadata": {},
   "outputs": [],
   "source": [
    "tracer.spans"
   ]
  },
  {
   "cell_type": "code",
   "execution_count": null,
   "metadata": {},
   "outputs": [],
   "source": [
    "inner_tracer.spans"
   ]
  },
  {
   "cell_type": "code",
   "execution_count": null,
   "metadata": {},
   "outputs": [],
   "source": [
    "from trulens_eval.trace import Tracer, TracerProvider, tracer_provider, get_tracer\n",
    "\n",
    "tracer = get_tracer()\n",
    "inner_tracer = get_tracer()\n",
    "\n",
    "with tracer.method() as span1:\n",
    "    print(type(span1), span1)\n",
    "\n",
    "    with tracer.method() as span2:\n",
    "        print(type(span2), span2)\n",
    "\n",
    "    with inner_tracer.method() as span3:\n",
    "        print(type(span3), span3)"
   ]
  },
  {
   "cell_type": "code",
   "execution_count": null,
   "metadata": {},
   "outputs": [],
   "source": [
    "from concurrent.futures import as_completed\n",
    "from time import sleep\n",
    "\n",
    "from examples.expositional.end2end_apps.custom_app.custom_app import CustomApp\n",
    "from tqdm.auto import tqdm\n",
    "\n",
    "from trulens_eval import Feedback\n",
    "from trulens_eval import Tru\n",
    "from trulens_eval.feedback.provider.hugs import Dummy\n",
    "from trulens_eval.schema.feedback import FeedbackMode\n",
    "from trulens_eval.tru_custom_app import TruCustomApp\n",
    "from trulens_eval.utils.threading import TP\n",
    "\n",
    "tp = TP()\n",
    "\n",
    "d = Dummy(\n",
    "    loading_prob=0.0,\n",
    "    freeze_prob=0.0, # we expect requests to have their own timeouts so freeze should never happen\n",
    "    error_prob=0.0,\n",
    "    overloaded_prob=0.0,\n",
    "    rpm=1000,\n",
    "    alloc = 0, # how much fake data to allocate during requests\n",
    "    delay = 10.0\n",
    ")\n",
    "\n",
    "tru = Tru()\n",
    "\n",
    "#tru.reset_database()\n",
    "\n",
    "tru.start_dashboard(\n",
    "    force = True,\n",
    "    _dev=Path().cwd().parent.parent.resolve()\n",
    ")"
   ]
  },
  {
   "cell_type": "code",
   "execution_count": null,
   "metadata": {},
   "outputs": [],
   "source": [
    "# Create custom app:\n",
    "ca = CustomApp(delay=0.0, alloc=0)\n",
    "\n",
    "# Create trulens wrapper:\n",
    "ta = TruCustomApp(\n",
    "    ca,\n",
    "    app_id=\"customapp\",\n",
    ")"
   ]
  },
  {
   "cell_type": "code",
   "execution_count": null,
   "metadata": {},
   "outputs": [],
   "source": [
    "with ta as recorder:\n",
    "    res = ca.respond_to_query(f\"hello\")\n",
    "\n",
    "rec = recorder.get()\n",
    "assert rec is not None"
   ]
  },
  {
   "cell_type": "code",
   "execution_count": null,
   "metadata": {},
   "outputs": [],
   "source": [
    "get_tracer().spans"
   ]
  },
  {
   "cell_type": "code",
   "execution_count": null,
   "metadata": {},
   "outputs": [],
   "source": [
    "recorder.tracer[1].spans"
   ]
  },
  {
   "cell_type": "code",
   "execution_count": null,
   "metadata": {},
   "outputs": [],
   "source": []
  }
 ],
 "metadata": {
  "kernelspec": {
   "display_name": "py38_trulens",
   "language": "python",
   "name": "python3"
  },
  "language_info": {
   "codemirror_mode": {
    "name": "ipython",
    "version": 3
   },
   "file_extension": ".py",
   "mimetype": "text/x-python",
   "name": "python",
   "nbconvert_exporter": "python",
   "pygments_lexer": "ipython3",
   "version": "3.12.3"
  },
  "orig_nbformat": 4
 },
 "nbformat": 4,
 "nbformat_minor": 2
}
