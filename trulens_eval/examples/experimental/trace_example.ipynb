{
 "cells": [
  {
   "cell_type": "code",
   "execution_count": 1,
   "metadata": {},
   "outputs": [],
   "source": [
    "# ! pip uninstall -y nemo_guardrails"
   ]
  },
  {
   "cell_type": "markdown",
   "metadata": {},
   "source": [
    "# Trace Recording Example"
   ]
  },
  {
   "cell_type": "code",
   "execution_count": 2,
   "metadata": {},
   "outputs": [],
   "source": [
    "%load_ext autoreload\n",
    "%autoreload 2\n",
    "from pathlib import Path\n",
    "import sys\n",
    "\n",
    "# If running from github repo, can use this:\n",
    "sys.path.append(str(Path().cwd().parent.parent.resolve()))"
   ]
  },
  {
   "cell_type": "code",
   "execution_count": 3,
   "metadata": {},
   "outputs": [
    {
     "name": "stdout",
     "output_type": "stream",
     "text": [
      "tracer SpanRecord\n",
      "tracer SpanMethodCall\n",
      "<class 'trulens_eval.trace.SpanMethodCall'> context=eb/03 parent=eb/0e error=None call=None\n",
      "tracer SpanRecord\n",
      "tracer SpanMethodCall\n",
      "<class 'trulens_eval.trace.SpanMethodCall'> context=eb/eb parent=eb/0e error=None call=None\n",
      "tracer SpanMethodCall\n",
      "<class 'trulens_eval.trace.SpanMethodCall'> context=a5/e4 parent=a5/66 error=None call=None\n"
     ]
    }
   ],
   "source": [
    "from trulens_eval.trace import Tracer, TracerProvider, tracer_provider\n",
    "tp = tracer_provider\n",
    "\n",
    "with tp.trace() as tracer:\n",
    "    with tracer.method() as span1:\n",
    "        print(type(span1), span1)\n",
    "\n",
    "    with tp.trace() as inner_tracer:\n",
    "\n",
    "        with tracer.method() as span2:\n",
    "            print(type(span2), span2)\n",
    "            raise Exception(\"test outer tracer error\")\n",
    "\n",
    "        with inner_tracer.method() as span3:\n",
    "            print(type(span3), span3)\n",
    "            raise Exception(\"test inner tracer error\")"
   ]
  },
  {
   "cell_type": "code",
   "execution_count": 4,
   "metadata": {},
   "outputs": [
    {
     "data": {
      "text/plain": [
       "{eb/0e: SpanRecord(context=eb/0e, parent=None, error=None, record=None),\n",
       " eb/03: SpanMethodCall(context=eb/03, parent=eb/0e, error=None, call=None),\n",
       " eb/eb: SpanMethodCall(context=eb/eb, parent=eb/0e, error='test outer tracer error', call=None)}"
      ]
     },
     "execution_count": 4,
     "metadata": {},
     "output_type": "execute_result"
    }
   ],
   "source": [
    "tracer.spans"
   ]
  },
  {
   "cell_type": "code",
   "execution_count": 5,
   "metadata": {},
   "outputs": [
    {
     "data": {
      "text/plain": [
       "{a5/66: SpanRecord(context=a5/66, parent=eb/0e, error=None, record=None),\n",
       " a5/e4: SpanMethodCall(context=a5/e4, parent=a5/66, error='test inner tracer error', call=None)}"
      ]
     },
     "execution_count": 5,
     "metadata": {},
     "output_type": "execute_result"
    }
   ],
   "source": [
    "inner_tracer.spans"
   ]
  },
  {
   "cell_type": "code",
   "execution_count": 6,
   "metadata": {},
   "outputs": [
    {
     "name": "stdout",
     "output_type": "stream",
     "text": [
      "null SpanMethodCall\n",
      "<class 'trulens_eval.trace.SpanMethodCall'> context=6e/59 parent=None error=None call=None\n",
      "null SpanMethodCall\n",
      "<class 'trulens_eval.trace.SpanMethodCall'> context=6e/97 parent=6e/59 error=None call=None\n",
      "null SpanMethodCall\n",
      "<class 'trulens_eval.trace.SpanMethodCall'> context=6e/d7 parent=6e/59 error=None call=None\n"
     ]
    }
   ],
   "source": [
    "from trulens_eval.trace import Tracer, TracerProvider, tracer_provider, get_tracer\n",
    "\n",
    "tracer = get_tracer()\n",
    "inner_tracer = get_tracer()\n",
    "\n",
    "with tracer.method() as span1:\n",
    "    print(type(span1), span1)\n",
    "\n",
    "    with tracer.method() as span2:\n",
    "        print(type(span2), span2)\n",
    "\n",
    "    with inner_tracer.method() as span3:\n",
    "        print(type(span3), span3)"
   ]
  },
  {
   "cell_type": "code",
   "execution_count": 7,
   "metadata": {},
   "outputs": [
    {
     "name": "stdout",
     "output_type": "stream",
     "text": [
      "🦑 Tru initialized with db url sqlite:///default.sqlite .\n",
      "🛑 Secret keys may be written to the database. See the `database_redact_keys` option of Tru` to prevent this.\n",
      "Force stopping dashboard ...\n",
      "Starting dashboard ...\n",
      "Config file already exists. Skipping writing process.\n",
      "Credentials file already exists. Skipping writing process.\n"
     ]
    },
    {
     "data": {
      "application/vnd.jupyter.widget-view+json": {
       "model_id": "3b33e59c3807424bad529f62135a5254",
       "version_major": 2,
       "version_minor": 0
      },
      "text/plain": [
       "Accordion(children=(VBox(children=(VBox(children=(Label(value='STDOUT'), Output())), VBox(children=(Label(valu…"
      ]
     },
     "metadata": {},
     "output_type": "display_data"
    },
    {
     "name": "stdout",
     "output_type": "stream",
     "text": [
      "Dashboard started at http://172.16.1.117:8501 .\n"
     ]
    },
    {
     "data": {
      "text/plain": [
       "<Popen: returncode: None args: ['streamlit', 'run', '--server.headless=True'...>"
      ]
     },
     "execution_count": 7,
     "metadata": {},
     "output_type": "execute_result"
    }
   ],
   "source": [
    "from concurrent.futures import as_completed\n",
    "from time import sleep\n",
    "\n",
    "from examples.expositional.end2end_apps.custom_app.custom_app import CustomApp\n",
    "from tqdm.auto import tqdm\n",
    "\n",
    "from trulens_eval import Feedback\n",
    "from trulens_eval import Tru\n",
    "from trulens_eval.feedback.provider.hugs import Dummy\n",
    "from trulens_eval.schema.feedback import FeedbackMode\n",
    "from trulens_eval.tru_custom_app import TruCustomApp\n",
    "from trulens_eval.utils.threading import TP\n",
    "\n",
    "tp = TP()\n",
    "\n",
    "d = Dummy(\n",
    "    loading_prob=0.0,\n",
    "    freeze_prob=0.0, # we expect requests to have their own timeouts so freeze should never happen\n",
    "    error_prob=0.0,\n",
    "    overloaded_prob=0.0,\n",
    "    rpm=1000,\n",
    "    alloc = 0, # how much fake data to allocate during requests\n",
    "    delay = 10.0\n",
    ")\n",
    "\n",
    "tru = Tru()\n",
    "\n",
    "tru.reset_database()\n",
    "\n",
    "tru.start_dashboard(\n",
    "    force = True,\n",
    "    _dev=Path().cwd().parent.parent.resolve()\n",
    ")"
   ]
  },
  {
   "cell_type": "code",
   "execution_count": 8,
   "metadata": {},
   "outputs": [],
   "source": [
    "# Create custom app:\n",
    "ca = CustomApp(delay=0.0, alloc=0)\n",
    "\n",
    "# Create trulens wrapper:\n",
    "ta = TruCustomApp(\n",
    "    ca,\n",
    "    app_id=\"customapp\",\n",
    ")"
   ]
  },
  {
   "cell_type": "code",
   "execution_count": 9,
   "metadata": {},
   "outputs": [
    {
     "name": "stdout",
     "output_type": "stream",
     "text": [
      "tracer SpanRecord\n",
      "tracer SpanMethodCall\n",
      "tracer SpanMethodCall\n",
      "tracer SpanMethodCall\n",
      "tracer SpanMethodCall\n",
      "tracer SpanMethodCall\n",
      "tracer SpanMethodCall\n",
      "tracer SpanMethodCall\n",
      "finished recording, have:\n",
      "3b/87 SpanRecord\n",
      "3b/8b SpanMethodCall\n",
      "3b/0e SpanMethodCall\n",
      "3b/dc SpanMethodCall\n",
      "3b/5d SpanMethodCall\n",
      "3b/4e SpanMethodCall\n",
      "3b/56 SpanMethodCall\n",
      "3b/0a SpanMethodCall\n"
     ]
    }
   ],
   "source": [
    "with ta as recorder:\n",
    "    res = ca.respond_to_query(f\"hello\")\n",
    "\n",
    "rec = recorder.get()\n",
    "assert rec is not None"
   ]
  },
  {
   "cell_type": "code",
   "execution_count": 10,
   "metadata": {},
   "outputs": [
    {
     "data": {
      "text/plain": [
       "[]"
      ]
     },
     "execution_count": 10,
     "metadata": {},
     "output_type": "execute_result"
    }
   ],
   "source": [
    "get_tracer().spans"
   ]
  },
  {
   "cell_type": "code",
   "execution_count": 13,
   "metadata": {},
   "outputs": [
    {
     "data": {
      "text/plain": [
       "{3b/87: SpanRecord(context=3b/87, parent=None, error=None, record=None),\n",
       " 3b/8b: SpanMethodCall(context=3b/8b, parent=3b/87, error=None, call=None),\n",
       " 3b/0e: SpanMethodCall(context=3b/0e, parent=3b/8b, error=None, call=None),\n",
       " 3b/dc: SpanMethodCall(context=3b/dc, parent=3b/0e, error=None, call=None),\n",
       " 3b/5d: SpanMethodCall(context=3b/5d, parent=3b/8b, error=None, call=None),\n",
       " 3b/4e: SpanMethodCall(context=3b/4e, parent=3b/8b, error=None, call=None),\n",
       " 3b/56: SpanMethodCall(context=3b/56, parent=3b/8b, error=None, call=None),\n",
       " 3b/0a: SpanMethodCall(context=3b/0a, parent=3b/8b, error=None, call=None)}"
      ]
     },
     "execution_count": 13,
     "metadata": {},
     "output_type": "execute_result"
    }
   ],
   "source": [
    "recorder.tracer[1].spans"
   ]
  },
  {
   "cell_type": "code",
   "execution_count": 15,
   "metadata": {},
   "outputs": [
    {
     "data": {
      "text/plain": [
       "<trulens_eval.trace.Tracer at 0x2c2bc4ef0>"
      ]
     },
     "execution_count": 15,
     "metadata": {},
     "output_type": "execute_result"
    }
   ],
   "source": [
    "recorder.tracer[1]"
   ]
  },
  {
   "cell_type": "code",
   "execution_count": null,
   "metadata": {},
   "outputs": [],
   "source": []
  }
 ],
 "metadata": {
  "kernelspec": {
   "display_name": "py38_trulens",
   "language": "python",
   "name": "python3"
  },
  "language_info": {
   "codemirror_mode": {
    "name": "ipython",
    "version": 3
   },
   "file_extension": ".py",
   "mimetype": "text/x-python",
   "name": "python",
   "nbconvert_exporter": "python",
   "pygments_lexer": "ipython3",
   "version": "3.12.3"
  },
  "orig_nbformat": 4
 },
 "nbformat": 4,
 "nbformat_minor": 2
}
